{
 "cells": [
  {
   "cell_type": "markdown",
   "id": "d51dffcf-59cb-4764-b008-4c17bb7c76f1",
   "metadata": {},
   "source": [
    "# Data Science Tools and Ecosystem"
   ]
  },
  {
   "cell_type": "markdown",
   "id": "d051501b-2c94-4051-9537-d55c1b0e44c5",
   "metadata": {},
   "source": [
    "In this notebook, Data Science Tools and Ecosystem are summarized."
   ]
  },
  {
   "cell_type": "markdown",
   "id": "0999cf3a-0a60-4b8a-b39d-c902f36e7147",
   "metadata": {},
   "source": [
    "**Objectives:**\n",
    "* List popular languages for Data Science\n",
    "* List commonly used libraries for Data Science\n",
    "* Create a table\n",
    "* List Data Science Tools\n",
    "* Evaluate simple mathematic expressions"
   ]
  },
  {
   "cell_type": "markdown",
   "id": "3ced7a42-91af-4318-92a4-6ad8f81fac06",
   "metadata": {},
   "source": [
    "## Author\n",
    "Krin Irvine"
   ]
  },
  {
   "cell_type": "markdown",
   "id": "ef1c2acc-22c2-4a3d-a5ed-f8746cf70575",
   "metadata": {},
   "source": [
    "Some of the popular languages that Data Scientists use are:\n",
    "1. R\n",
    "2. Python\n",
    "3. SQL"
   ]
  },
  {
   "cell_type": "markdown",
   "id": "8fb65979-4e6e-4603-a8f7-2b932235fce4",
   "metadata": {},
   "source": [
    "Some of the commonly used libraries used by Data Scientists include:\n",
    "1. Pandas\n",
    "2. Matplotlib\n",
    "3. Scikit-learn"
   ]
  },
  {
   "cell_type": "markdown",
   "id": "356aec22-2cb6-4c00-8995-723794bb600f",
   "metadata": {},
   "source": [
    "|Data Science Tools|\n",
    "|-----|\n",
    "|Jupyter|\n",
    "|RStudio|\n",
    "|Microsoft Visual Studio|\n"
   ]
  },
  {
   "cell_type": "markdown",
   "id": "214b5f62-9368-448f-8ecc-8b0debb9c88c",
   "metadata": {},
   "source": [
    "### Below are a few examples of evaluating arithmetic expressions in Python.\n",
    "\n"
   ]
  },
  {
   "cell_type": "code",
   "execution_count": 9,
   "id": "6d4bfb10-1217-4aab-b6e2-5bf8ac3245b2",
   "metadata": {
    "scrolled": true
   },
   "outputs": [
    {
     "data": {
      "text/plain": [
       "17"
      ]
     },
     "execution_count": 9,
     "metadata": {},
     "output_type": "execute_result"
    }
   ],
   "source": [
    "#This a simple arithmetic expression to multiply then add integers\n",
    "(3*4)+5"
   ]
  },
  {
   "cell_type": "code",
   "execution_count": 15,
   "id": "8f01003a-7746-4de0-908a-f236f1c1eb1c",
   "metadata": {},
   "outputs": [
    {
     "name": "stdout",
     "output_type": "stream",
     "text": [
      "3.3333333333333335\n"
     ]
    }
   ],
   "source": [
    "#This will convert 200 minutes to hours by dividing by 60\n",
    "mins = 200\n",
    "hours = mins/60\n",
    "print(hours)"
   ]
  }
 ],
 "metadata": {
  "kernelspec": {
   "display_name": "Python [conda env:Coursera_Test_Evn]",
   "language": "python",
   "name": "conda-env-Coursera_Test_Evn-py"
  },
  "language_info": {
   "codemirror_mode": {
    "name": "ipython",
    "version": 3
   },
   "file_extension": ".py",
   "mimetype": "text/x-python",
   "name": "python",
   "nbconvert_exporter": "python",
   "pygments_lexer": "ipython3",
   "version": "3.12.8"
  }
 },
 "nbformat": 4,
 "nbformat_minor": 5
}
